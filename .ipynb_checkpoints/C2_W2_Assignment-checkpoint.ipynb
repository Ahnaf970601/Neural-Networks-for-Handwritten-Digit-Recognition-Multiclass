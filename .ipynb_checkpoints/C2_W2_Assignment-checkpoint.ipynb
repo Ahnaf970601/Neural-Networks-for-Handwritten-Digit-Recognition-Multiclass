{
 "cells": [
  {
   "cell_type": "markdown",
   "metadata": {},
   "source": [
    "# Practice Lab: Neural Networks for Handwritten Digit Recognition, Multiclass \n",
    "\n",
    "In this exercise, you will use a neural network to recognize the hand-written digits 0-9.\n",
    "\n",
    "\n",
    "# Outline\n",
    "- [ 1 - Packages ](#1)\n",
    "- [ 2 - ReLU Activation](#2)\n",
    "- [ 3 - Softmax Function](#3)\n",
    "  - [ Exercise 1](#ex01)\n",
    "- [ 4 - Neural Networks](#4)\n",
    "  - [ 4.1 Problem Statement](#4.1)\n",
    "  - [ 4.2 Dataset](#4.2)\n",
    "  - [ 4.3 Model representation](#4.3)\n",
    "  - [ 4.4 Tensorflow Model Implementation](#4.4)\n",
    "  - [ 4.5 Softmax placement](#4.5)\n",
    "    - [ Exercise 2](#ex02)\n"
   ]
  },
  {
   "cell_type": "markdown",
   "metadata": {},
   "source": [
    "_**NOTE:** To prevent errors from the autograder, you are not allowed to edit or delete non-graded cells in this notebook . Please also refrain from adding any new cells. \n",
    "**Once you have passed this assignment** and want to experiment with any of the non-graded code, you may follow the instructions at the bottom of this notebook._"
   ]
  },
  {
   "cell_type": "markdown",
   "metadata": {
    "tags": []
   },
   "source": [
    "<a name=\"1\"></a>\n",
    "## 1 - Packages \n",
    "\n",
    "First, let's run the cell below to import all the packages that you will need during this assignment.\n",
    "- [numpy](https://numpy.org/) is the fundamental package for scientific computing with Python.\n",
    "- [matplotlib](http://matplotlib.org) is a popular library to plot graphs in Python.\n",
    "- [tensorflow](https://www.tensorflow.org/) a popular platform for machine learning."
   ]
  },
  {
   "cell_type": "code",
   "execution_count": 3,
   "metadata": {},
   "outputs": [
    {
     "name": "stdout",
     "output_type": "stream",
     "text": [
      "Requirement already satisfied: ipympl in /Users/shafiqulislam/anaconda3/lib/python3.11/site-packages (0.9.3)\n",
      "Requirement already satisfied: ipython<9 in /Users/shafiqulislam/anaconda3/lib/python3.11/site-packages (from ipympl) (8.15.0)\n",
      "Requirement already satisfied: numpy in /Users/shafiqulislam/anaconda3/lib/python3.11/site-packages (from ipympl) (1.23.5)\n",
      "Requirement already satisfied: ipython-genutils in /Users/shafiqulislam/anaconda3/lib/python3.11/site-packages (from ipympl) (0.2.0)\n",
      "Requirement already satisfied: pillow in /Users/shafiqulislam/anaconda3/lib/python3.11/site-packages (from ipympl) (10.0.1)\n",
      "Requirement already satisfied: traitlets<6 in /Users/shafiqulislam/anaconda3/lib/python3.11/site-packages (from ipympl) (5.7.1)\n",
      "Requirement already satisfied: ipywidgets<9,>=7.6.0 in /Users/shafiqulislam/anaconda3/lib/python3.11/site-packages (from ipympl) (8.0.4)\n",
      "Requirement already satisfied: matplotlib<4,>=3.4.0 in /Users/shafiqulislam/anaconda3/lib/python3.11/site-packages (from ipympl) (3.7.2)\n",
      "Requirement already satisfied: backcall in /Users/shafiqulislam/anaconda3/lib/python3.11/site-packages (from ipython<9->ipympl) (0.2.0)\n",
      "Requirement already satisfied: decorator in /Users/shafiqulislam/anaconda3/lib/python3.11/site-packages (from ipython<9->ipympl) (5.1.1)\n",
      "Requirement already satisfied: jedi>=0.16 in /Users/shafiqulislam/anaconda3/lib/python3.11/site-packages (from ipython<9->ipympl) (0.18.1)\n",
      "Requirement already satisfied: matplotlib-inline in /Users/shafiqulislam/anaconda3/lib/python3.11/site-packages (from ipython<9->ipympl) (0.1.6)\n",
      "Requirement already satisfied: pickleshare in /Users/shafiqulislam/anaconda3/lib/python3.11/site-packages (from ipython<9->ipympl) (0.7.5)\n",
      "Requirement already satisfied: prompt-toolkit!=3.0.37,<3.1.0,>=3.0.30 in /Users/shafiqulislam/anaconda3/lib/python3.11/site-packages (from ipython<9->ipympl) (3.0.36)\n",
      "Requirement already satisfied: pygments>=2.4.0 in /Users/shafiqulislam/anaconda3/lib/python3.11/site-packages (from ipython<9->ipympl) (2.15.1)\n",
      "Requirement already satisfied: stack-data in /Users/shafiqulislam/anaconda3/lib/python3.11/site-packages (from ipython<9->ipympl) (0.2.0)\n",
      "Requirement already satisfied: pexpect>4.3 in /Users/shafiqulislam/anaconda3/lib/python3.11/site-packages (from ipython<9->ipympl) (4.8.0)\n",
      "Requirement already satisfied: appnope in /Users/shafiqulislam/anaconda3/lib/python3.11/site-packages (from ipython<9->ipympl) (0.1.2)\n",
      "Requirement already satisfied: ipykernel>=4.5.1 in /Users/shafiqulislam/anaconda3/lib/python3.11/site-packages (from ipywidgets<9,>=7.6.0->ipympl) (6.25.0)\n",
      "Requirement already satisfied: widgetsnbextension~=4.0 in /Users/shafiqulislam/anaconda3/lib/python3.11/site-packages (from ipywidgets<9,>=7.6.0->ipympl) (4.0.5)\n",
      "Requirement already satisfied: jupyterlab-widgets~=3.0 in /Users/shafiqulislam/anaconda3/lib/python3.11/site-packages (from ipywidgets<9,>=7.6.0->ipympl) (3.0.5)\n",
      "Requirement already satisfied: contourpy>=1.0.1 in /Users/shafiqulislam/anaconda3/lib/python3.11/site-packages (from matplotlib<4,>=3.4.0->ipympl) (1.0.5)\n",
      "Requirement already satisfied: cycler>=0.10 in /Users/shafiqulislam/anaconda3/lib/python3.11/site-packages (from matplotlib<4,>=3.4.0->ipympl) (0.11.0)\n",
      "Requirement already satisfied: fonttools>=4.22.0 in /Users/shafiqulislam/anaconda3/lib/python3.11/site-packages (from matplotlib<4,>=3.4.0->ipympl) (4.25.0)\n",
      "Requirement already satisfied: kiwisolver>=1.0.1 in /Users/shafiqulislam/anaconda3/lib/python3.11/site-packages (from matplotlib<4,>=3.4.0->ipympl) (1.4.4)\n",
      "Requirement already satisfied: packaging>=20.0 in /Users/shafiqulislam/anaconda3/lib/python3.11/site-packages (from matplotlib<4,>=3.4.0->ipympl) (23.1)\n",
      "Requirement already satisfied: pyparsing<3.1,>=2.3.1 in /Users/shafiqulislam/anaconda3/lib/python3.11/site-packages (from matplotlib<4,>=3.4.0->ipympl) (3.0.9)\n",
      "Requirement already satisfied: python-dateutil>=2.7 in /Users/shafiqulislam/anaconda3/lib/python3.11/site-packages (from matplotlib<4,>=3.4.0->ipympl) (2.8.2)\n",
      "Requirement already satisfied: comm>=0.1.1 in /Users/shafiqulislam/anaconda3/lib/python3.11/site-packages (from ipykernel>=4.5.1->ipywidgets<9,>=7.6.0->ipympl) (0.1.2)\n",
      "Requirement already satisfied: debugpy>=1.6.5 in /Users/shafiqulislam/anaconda3/lib/python3.11/site-packages (from ipykernel>=4.5.1->ipywidgets<9,>=7.6.0->ipympl) (1.6.7)\n",
      "Requirement already satisfied: jupyter-client>=6.1.12 in /Users/shafiqulislam/anaconda3/lib/python3.11/site-packages (from ipykernel>=4.5.1->ipywidgets<9,>=7.6.0->ipympl) (7.4.9)\n",
      "Requirement already satisfied: jupyter-core!=5.0.*,>=4.12 in /Users/shafiqulislam/anaconda3/lib/python3.11/site-packages (from ipykernel>=4.5.1->ipywidgets<9,>=7.6.0->ipympl) (5.3.0)\n",
      "Requirement already satisfied: nest-asyncio in /Users/shafiqulislam/anaconda3/lib/python3.11/site-packages (from ipykernel>=4.5.1->ipywidgets<9,>=7.6.0->ipympl) (1.5.6)\n",
      "Requirement already satisfied: psutil in /Users/shafiqulislam/anaconda3/lib/python3.11/site-packages (from ipykernel>=4.5.1->ipywidgets<9,>=7.6.0->ipympl) (5.9.0)\n",
      "Requirement already satisfied: pyzmq>=20 in /Users/shafiqulislam/anaconda3/lib/python3.11/site-packages (from ipykernel>=4.5.1->ipywidgets<9,>=7.6.0->ipympl) (23.2.0)\n",
      "Requirement already satisfied: tornado>=6.1 in /Users/shafiqulislam/anaconda3/lib/python3.11/site-packages (from ipykernel>=4.5.1->ipywidgets<9,>=7.6.0->ipympl) (6.3.2)\n",
      "Requirement already satisfied: parso<0.9.0,>=0.8.0 in /Users/shafiqulislam/anaconda3/lib/python3.11/site-packages (from jedi>=0.16->ipython<9->ipympl) (0.8.3)\n",
      "Requirement already satisfied: ptyprocess>=0.5 in /Users/shafiqulislam/anaconda3/lib/python3.11/site-packages (from pexpect>4.3->ipython<9->ipympl) (0.7.0)\n",
      "Requirement already satisfied: wcwidth in /Users/shafiqulislam/anaconda3/lib/python3.11/site-packages (from prompt-toolkit!=3.0.37,<3.1.0,>=3.0.30->ipython<9->ipympl) (0.2.5)\n",
      "Requirement already satisfied: six>=1.5 in /Users/shafiqulislam/anaconda3/lib/python3.11/site-packages (from python-dateutil>=2.7->matplotlib<4,>=3.4.0->ipympl) (1.16.0)\n",
      "Requirement already satisfied: executing in /Users/shafiqulislam/anaconda3/lib/python3.11/site-packages (from stack-data->ipython<9->ipympl) (0.8.3)\n",
      "Requirement already satisfied: asttokens in /Users/shafiqulislam/anaconda3/lib/python3.11/site-packages (from stack-data->ipython<9->ipympl) (2.0.5)\n",
      "Requirement already satisfied: pure-eval in /Users/shafiqulislam/anaconda3/lib/python3.11/site-packages (from stack-data->ipython<9->ipympl) (0.2.2)\n",
      "Requirement already satisfied: entrypoints in /Users/shafiqulislam/anaconda3/lib/python3.11/site-packages (from jupyter-client>=6.1.12->ipykernel>=4.5.1->ipywidgets<9,>=7.6.0->ipympl) (0.4)\n",
      "Requirement already satisfied: platformdirs>=2.5 in /Users/shafiqulislam/anaconda3/lib/python3.11/site-packages (from jupyter-core!=5.0.*,>=4.12->ipykernel>=4.5.1->ipywidgets<9,>=7.6.0->ipympl) (3.10.0)\n"
     ]
    }
   ],
   "source": [
    "!pip install ipympl"
   ]
  },
  {
   "cell_type": "code",
   "execution_count": 4,
   "metadata": {
    "deletable": false,
    "editable": false
   },
   "outputs": [],
   "source": [
    "import numpy as np\n",
    "import tensorflow as tf\n",
    "from tensorflow.keras.models import Sequential\n",
    "from tensorflow.keras.layers import Dense\n",
    "from tensorflow.keras.activations import linear, relu, sigmoid\n",
    "%matplotlib widget\n",
    "import matplotlib.pyplot as plt\n",
    "plt.style.use('./deeplearning.mplstyle')\n",
    "\n",
    "import logging\n",
    "logging.getLogger(\"tensorflow\").setLevel(logging.ERROR)\n",
    "tf.autograph.set_verbosity(0)\n",
    "\n",
    "from public_tests import * \n",
    "\n",
    "from autils import *\n",
    "from lab_utils_softmax import plt_softmax\n",
    "np.set_printoptions(precision=2)"
   ]
  },
  {
   "cell_type": "markdown",
   "metadata": {},
   "source": [
    "<a name=\"2\"></a>\n",
    "## 2 - ReLU Activation\n",
    "This week, a new activation was introduced, the Rectified Linear Unit (ReLU). \n",
    "$$ a = max(0,z) \\quad\\quad\\text {# ReLU function} $$"
   ]
  },
  {
   "cell_type": "code",
   "execution_count": 5,
   "metadata": {
    "deletable": false,
    "editable": false
   },
   "outputs": [
    {
     "data": {
      "application/vnd.jupyter.widget-view+json": {
       "model_id": "dbe92c5eb6004ab7a75476263702970e",
       "version_major": 2,
       "version_minor": 0
      },
      "image/png": "[encoded data removed]",
      "text/html": [
       "\n",
       "            <div style=\"display: inline-block;\">\n",
       "                <div class=\"jupyter-widgets widget-label\" style=\"text-align: center;\">\n",
       "                    Figure\n",
       "                </div>\n",
       "                <img src='data:image/png;base64,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' width=600.0/>\n",
       "            </div>\n",
       "        "
      ],
      "text/plain": [
       "Canvas(footer_visible=False, header_visible=False, toolbar=Toolbar(toolitems=[('Home', 'Reset original view', …"
      ]
     },
     "metadata": {},
     "output_type": "display_data"
    }
   ],
   "source": [
    "plt_act_trio()"
   ]
  },
  {
   "cell_type": "markdown",
   "metadata": {},
   "source": [
    "<img align=\"right\" src=\"./images/C2_W2_ReLu.png\"     style=\" width:380px; padding: 10px 20px; \" >\n",
    "The example from the lecture on the right shows an application of the ReLU. In this example, the derived \"awareness\" feature is not binary but has a continuous range of values. The sigmoid is best for on/off or binary situations. The ReLU provides a continuous linear relationship. Additionally it has an 'off' range where the output is zero.     \n",
    "The \"off\" feature makes the ReLU a Non-Linear activation. Why is this needed? This enables multiple units to contribute to to the resulting function without interfering. This is examined more in the supporting optional lab. "
   ]
  },
  {
   "cell_type": "markdown",
   "metadata": {
    "tags": []
   },
   "source": [
    "<a name=\"3\"></a>\n",
    "## 3 - Softmax Function\n",
    "A multiclass neural network generates N outputs. One output is selected as the predicted answer. In the output layer, a vector $\\mathbf{z}$ is generated by a linear function which is fed into a softmax function. The softmax function converts $\\mathbf{z}$  into a probability distribution as described below. After applying softmax, each output will be between 0 and 1 and the outputs will sum to 1. They can be interpreted as probabilities. The larger inputs to the softmax will correspond to larger output probabilities.\n",
    "<center>  <img  src=\"./images/C2_W2_NNSoftmax.PNG\" width=\"600\" />  "
   ]
  },
  {
   "cell_type": "markdown",
   "metadata": {},
   "source": [
    "The softmax function can be written:\n",
    "$$a_j = \\frac{e^{z_j}}{ \\sum_{k=0}^{N-1}{e^{z_k} }} \\tag{1}$$\n",
    "\n",
    "Where $z = \\mathbf{w} \\cdot \\mathbf{x} + b$ and N is the number of feature/categories in the output layer.  "
   ]
  },
  {
   "cell_type": "markdown",
   "metadata": {},
   "source": [
    "<a name=\"ex01\"></a>\n",
    "### Exercise 1\n",
    "Let's create a NumPy implementation:"
   ]
  },
  {
   "cell_type": "code",
   "execution_count": 17,
   "metadata": {
    "deletable": false
   },
   "outputs": [],
   "source": [
    "# UNQ_C1\n",
    "# GRADED CELL: my_softmax\n",
    "\n",
    "def my_softmax(z):  \n",
    "    \"\"\" Softmax converts a vector of values to a probability distribution.\n",
    "    Args:\n",
    "      z (ndarray (N,))  : input data, N features\n",
    "    Returns:\n",
    "      a (ndarray (N,))  : softmax of z\n",
    "    \"\"\"    \n",
    "    ### START CODE HERE ###  \n",
    "    exp_z = np.exp(z - np.max(z))  \n",
    "    \n",
    "    # Subtract max for numerical stability\n",
    "    a = exp_z / np.sum(exp_z)\n",
    "    return a\n",
    "    \n",
    "    ### END CODE HERE ### \n",
    "    return a"
   ]
  },
  {
   "cell_type": "code",
   "execution_count": 18,
   "metadata": {
    "deletable": false,
    "editable": false
   },
   "outputs": [
    {
     "name": "stdout",
     "output_type": "stream",
     "text": [
      "my_softmax(z):         [0.03 0.09 0.24 0.64]\n",
      "tensorflow softmax(z): [0.03 0.09 0.24 0.64]\n",
      "\u001b[92m All tests passed.\n"
     ]
    }
   ],
   "source": [
    "z = np.array([1., 2., 3., 4.])\n",
    "a = my_softmax(z)\n",
    "atf = tf.nn.softmax(z)\n",
    "print(f\"my_softmax(z):         {a}\")\n",
    "print(f\"tensorflow softmax(z): {atf}\")\n",
    "\n",
    "# BEGIN UNIT TEST  \n",
    "test_my_softmax(my_softmax)\n",
    "# END UNIT TEST  "
   ]
  },
  {
   "cell_type": "markdown",
   "metadata": {},
   "source": [
    "<details>\n",
    "  <summary><font size=\"3\" color=\"darkgreen\"><b>Click for hints</b></font></summary>\n",
    "    One implementation uses for loop to first build the denominator and then a second loop to calculate each output.\n",
    "    \n",
    "```python\n",
    "def my_softmax(z):  \n",
    "    N = len(z)\n",
    "    a =                     # initialize a to zeros \n",
    "    ez_sum =                # initialize sum to zero\n",
    "    for k in range(N):      # loop over number of outputs             \n",
    "        ez_sum +=           # sum exp(z[k]) to build the shared denominator      \n",
    "    for j in range(N):      # loop over number of outputs again                \n",
    "        a[j] =              # divide each the exp of each output by the denominator   \n",
    "    return(a)\n",
    "```\n",
    "<details>\n",
    "  <summary><font size=\"3\" color=\"darkgreen\"><b>Click for code</b></font></summary>\n",
    "   \n",
    "```python\n",
    "def my_softmax(z):  \n",
    "    N = len(z)\n",
    "    a = np.zeros(N)\n",
    "    ez_sum = 0\n",
    "    for k in range(N):                \n",
    "        ez_sum += np.exp(z[k])       \n",
    "    for j in range(N):                \n",
    "        a[j] = np.exp(z[j])/ez_sum   \n",
    "    return(a)\n",
    "\n",
    "Or, a vector implementation:\n",
    "\n",
    "def my_softmax(z):  \n",
    "    ez = np.exp(z)              \n",
    "    a = ez/np.sum(ez)           \n",
    "    return(a)\n",
    "\n",
    "```\n"
   ]
  },
  {
   "cell_type": "markdown",
   "metadata": {},
   "source": [
    "Below, vary the values of the `z` inputs. Note in particular how the exponential in the numerator magnifies small differences in the values. Note as well that the output values sum to one."
   ]
  },
  {
   "cell_type": "code",
   "execution_count": 8,
   "metadata": {
    "deletable": false,
    "editable": false
   },
   "outputs": [
    {
     "data": {
      "application/vnd.jupyter.widget-view+json": {
       "model_id": "fcd994fd7c2640a3b4bd0629f1f55ada",
       "version_major": 2,
       "version_minor": 0
      },
      "image/png": "[encoded data removed]",
      "text/html": [
       "\n",
       "            <div style=\"display: inline-block;\">\n",
       "                <div class=\"jupyter-widgets widget-label\" style=\"text-align: center;\">\n",
       "                    Figure\n",
       "                </div>\n",
       "                <img src='data:image/png;base64,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' width=800.0/>\n",
       "            </div>\n",
       "        "
      ],
      "text/plain": [
       "Canvas(toolbar=Toolbar(toolitems=[('Home', 'Reset original view', 'home', 'home'), ('Back', 'Back to previous …"
      ]
     },
     "metadata": {},
     "output_type": "display_data"
    }
   ],
   "source": [
    "plt.close(\"all\")\n",
    "plt_softmax(my_softmax)"
   ]
  },
  {
   "cell_type": "markdown",
   "metadata": {
    "tags": []
   },
   "source": [
    "<a name=\"4\"></a>\n",
    "## 4 - Neural Networks\n",
    "\n",
    "In last weeks assignment, you implemented a neural network to do binary classification. This week you will extend that to multiclass classification. This will utilize the softmax activation.\n",
    "\n",
    "\n",
    "<a name=\"4.1\"></a>\n",
    "### 4.1 Problem Statement\n",
    "\n",
    "In this exercise, you will use a neural network to recognize ten handwritten digits, 0-9. This is a multiclass classification task where one of n choices is selected. Automated handwritten digit recognition is widely used today - from recognizing zip codes (postal codes) on mail envelopes to recognizing amounts written on bank checks. \n",
    "\n",
    "\n",
    "<a name=\"4.2\"></a>\n",
    "### 4.2 Dataset\n",
    "\n",
    "You will start by loading the dataset for this task. \n",
    "- The `load_data()` function shown below loads the data into variables `X` and `y`\n",
    "\n",
    "\n",
    "- The data set contains 5000 training examples of handwritten digits $^1$.  \n",
    "\n",
    "    - Each training example is a 20-pixel x 20-pixel grayscale image of the digit. \n",
    "        - Each pixel is represented by a floating-point number indicating the grayscale intensity at that location. \n",
    "        - The 20 by 20 grid of pixels is “unrolled” into a 400-dimensional vector. \n",
    "        - Each training examples becomes a single row in our data matrix `X`. \n",
    "        - This gives us a 5000 x 400 matrix `X` where every row is a training example of a handwritten digit image.\n",
    "\n",
    "$$X = \n",
    "\\left(\\begin{array}{cc} \n",
    "--- (x^{(1)}) --- \\\\\n",
    "--- (x^{(2)}) --- \\\\\n",
    "\\vdots \\\\ \n",
    "--- (x^{(m)}) --- \n",
    "\\end{array}\\right)$$ \n",
    "\n",
    "- The second part of the training set is a 5000 x 1 dimensional vector `y` that contains labels for the training set\n",
    "    - `y = 0` if the image is of the digit `0`, `y = 4` if the image is of the digit `4` and so on.\n",
    "\n",
    "$^1$<sub> This is a subset of the MNIST handwritten digit dataset (http://yann.lecun.com/exdb/mnist/)</sub>"
   ]
  },
  {
   "cell_type": "markdown",
   "metadata": {},
   "source": [
    "## Note: To Load X and y, Run the second cell in below which uses ex3data1.mat data file."
   ]
  },
  {
   "cell_type": "code",
   "execution_count": 47,
   "metadata": {
    "deletable": false,
    "editable": false,
    "scrolled": true
   },
   "outputs": [
    {
     "ename": "FileNotFoundError",
     "evalue": "[Errno 2] No such file or directory: 'data/X.npy'",
     "output_type": "error",
     "traceback": [
      "\u001b[0;31m---------------------------------------------------------------------------\u001b[0m",
      "\u001b[0;31mFileNotFoundError\u001b[0m                         Traceback (most recent call last)",
      "Cell \u001b[0;32mIn[47], line 2\u001b[0m\n\u001b[1;32m      1\u001b[0m \u001b[38;5;66;03m# load dataset\u001b[39;00m\n\u001b[0;32m----> 2\u001b[0m X, y \u001b[38;5;241m=\u001b[39m load_data()\n",
      "File \u001b[0;32m~/Downloads/Assignment 2/autils.py:15\u001b[0m, in \u001b[0;36mload_data\u001b[0;34m()\u001b[0m\n\u001b[1;32m     14\u001b[0m \u001b[38;5;28;01mdef\u001b[39;00m \u001b[38;5;21mload_data\u001b[39m():\n\u001b[0;32m---> 15\u001b[0m     X \u001b[38;5;241m=\u001b[39m np\u001b[38;5;241m.\u001b[39mload(\u001b[38;5;124m\"\u001b[39m\u001b[38;5;124mdata/X.npy\u001b[39m\u001b[38;5;124m\"\u001b[39m)\n\u001b[1;32m     16\u001b[0m     y \u001b[38;5;241m=\u001b[39m np\u001b[38;5;241m.\u001b[39mload(\u001b[38;5;124m\"\u001b[39m\u001b[38;5;124mdata/y.npy\u001b[39m\u001b[38;5;124m\"\u001b[39m)\n\u001b[1;32m     17\u001b[0m     \u001b[38;5;28;01mreturn\u001b[39;00m X, y\n",
      "File \u001b[0;32m~/anaconda3/lib/python3.11/site-packages/numpy/lib/npyio.py:405\u001b[0m, in \u001b[0;36mload\u001b[0;34m(file, mmap_mode, allow_pickle, fix_imports, encoding, max_header_size)\u001b[0m\n\u001b[1;32m    403\u001b[0m     own_fid \u001b[38;5;241m=\u001b[39m \u001b[38;5;28;01mFalse\u001b[39;00m\n\u001b[1;32m    404\u001b[0m \u001b[38;5;28;01melse\u001b[39;00m:\n\u001b[0;32m--> 405\u001b[0m     fid \u001b[38;5;241m=\u001b[39m stack\u001b[38;5;241m.\u001b[39menter_context(\u001b[38;5;28mopen\u001b[39m(os_fspath(file), \u001b[38;5;124m\"\u001b[39m\u001b[38;5;124mrb\u001b[39m\u001b[38;5;124m\"\u001b[39m))\n\u001b[1;32m    406\u001b[0m     own_fid \u001b[38;5;241m=\u001b[39m \u001b[38;5;28;01mTrue\u001b[39;00m\n\u001b[1;32m    408\u001b[0m \u001b[38;5;66;03m# Code to distinguish from NumPy binary files and pickles.\u001b[39;00m\n",
      "\u001b[0;31mFileNotFoundError\u001b[0m: [Errno 2] No such file or directory: 'data/X.npy'"
     ]
    }
   ],
   "source": [
    "# load dataset\n",
    "X, y = load_data()"
   ]
  },
  {
   "cell_type": "code",
   "execution_count": 34,
   "metadata": {},
   "outputs": [
    {
     "ename": "NameError",
     "evalue": "name 'loadmat' is not defined",
     "output_type": "error",
     "traceback": [
      "\u001b[0;31m---------------------------------------------------------------------------\u001b[0m",
      "\u001b[0;31mNameError\u001b[0m                                 Traceback (most recent call last)",
      "Cell \u001b[0;32mIn[34], line 3\u001b[0m\n\u001b[1;32m      1\u001b[0m \u001b[38;5;66;03m# Load data stored in arrays X, y from data folder (ex3data1.mat)\u001b[39;00m\n\u001b[0;32m----> 3\u001b[0m data \u001b[38;5;241m=\u001b[39m loadmat(os\u001b[38;5;241m.\u001b[39mpath\u001b[38;5;241m.\u001b[39mjoin(\u001b[38;5;124m'\u001b[39m\u001b[38;5;124mData\u001b[39m\u001b[38;5;124m'\u001b[39m, \u001b[38;5;124m'\u001b[39m\u001b[38;5;124mex3data1.mat\u001b[39m\u001b[38;5;124m'\u001b[39m))\n\u001b[1;32m      4\u001b[0m X, y \u001b[38;5;241m=\u001b[39m data[\u001b[38;5;124m'\u001b[39m\u001b[38;5;124mX\u001b[39m\u001b[38;5;124m'\u001b[39m], data[\u001b[38;5;124m'\u001b[39m\u001b[38;5;124my\u001b[39m\u001b[38;5;124m'\u001b[39m]\u001b[38;5;241m.\u001b[39mravel()\n\u001b[1;32m      6\u001b[0m \u001b[38;5;66;03m# set the zero digit to 0, rather than its mapped 10 in this dataset\u001b[39;00m\n\u001b[1;32m      7\u001b[0m \u001b[38;5;66;03m# This is an artifact due to the fact that this dataset was used in \u001b[39;00m\n\u001b[1;32m      8\u001b[0m \u001b[38;5;66;03m# MATLAB where there is no index 0\u001b[39;00m\n",
      "\u001b[0;31mNameError\u001b[0m: name 'loadmat' is not defined"
     ]
    }
   ],
   "source": [
    "# Load data stored in arrays X, y from data folder (ex3data1.mat)\n",
    "\n",
    "data = loadmat(os.path.join('Data', 'ex3data1.mat'))\n",
    "X, y = data['X'], data['y'].ravel()\n",
    "\n",
    "# set the zero digit to 0, rather than its mapped 10 in this dataset\n",
    "# This is an artifact due to the fact that this dataset was used in \n",
    "# MATLAB where there is no index 0\n",
    "y[y == 10] = 0\n"
   ]
  },
  {
   "cell_type": "markdown",
   "metadata": {},
   "source": [
    "#### 4.2.1 View the variables\n",
    "Let's get more familiar with your dataset.  \n",
    "- A good place to start is to print out each variable and see what it contains.\n",
    "\n",
    "The code below prints the first element in the variables `X` and `y`.  "
   ]
  },
  {
   "cell_type": "code",
   "execution_count": null,
   "metadata": {
    "deletable": false,
    "editable": false,
    "scrolled": true
   },
   "outputs": [],
   "source": [
    "print ('The first element of X is: ', X[0])"
   ]
  },
  {
   "cell_type": "code",
   "execution_count": null,
   "metadata": {
    "deletable": false,
    "editable": false
   },
   "outputs": [],
   "source": [
    "print ('The first element of y is: ', y[0,0])\n",
    "print ('The last element of y is: ', y[-1,0])"
   ]
  },
  {
   "cell_type": "markdown",
   "metadata": {},
   "source": [
    "#### 4.2.2 Check the dimensions of your variables\n",
    "\n",
    "Another way to get familiar with your data is to view its dimensions. Please print the shape of `X` and `y` and see how many training examples you have in your dataset."
   ]
  },
  {
   "cell_type": "code",
   "execution_count": 48,
   "metadata": {
    "deletable": false,
    "editable": false
   },
   "outputs": [
    {
     "ename": "NameError",
     "evalue": "name 'X' is not defined",
     "output_type": "error",
     "traceback": [
      "\u001b[0;31m---------------------------------------------------------------------------\u001b[0m",
      "\u001b[0;31mNameError\u001b[0m                                 Traceback (most recent call last)",
      "Cell \u001b[0;32mIn[48], line 1\u001b[0m\n\u001b[0;32m----> 1\u001b[0m \u001b[38;5;28mprint\u001b[39m (\u001b[38;5;124m'\u001b[39m\u001b[38;5;124mThe shape of X is: \u001b[39m\u001b[38;5;124m'\u001b[39m \u001b[38;5;241m+\u001b[39m \u001b[38;5;28mstr\u001b[39m(X\u001b[38;5;241m.\u001b[39mshape))\n\u001b[1;32m      2\u001b[0m \u001b[38;5;28mprint\u001b[39m (\u001b[38;5;124m'\u001b[39m\u001b[38;5;124mThe shape of y is: \u001b[39m\u001b[38;5;124m'\u001b[39m \u001b[38;5;241m+\u001b[39m \u001b[38;5;28mstr\u001b[39m(y\u001b[38;5;241m.\u001b[39mshape))\n",
      "\u001b[0;31mNameError\u001b[0m: name 'X' is not defined"
     ]
    }
   ],
   "source": [
    "print ('The shape of X is: ' + str(X.shape))\n",
    "print ('The shape of y is: ' + str(y.shape))"
   ]
  },
  {
   "cell_type": "markdown",
   "metadata": {},
   "source": [
    "#### 4.2.3 Visualizing the Data\n",
    "\n",
    "You will begin by visualizing a subset of the training set. \n",
    "- In the cell below, the code randomly selects 64 rows from `X`, maps each row back to a 20 pixel by 20 pixel grayscale image and displays the images together. \n",
    "- The label for each image is displayed above the image "
   ]
  },
  {
   "cell_type": "code",
   "execution_count": 6,
   "metadata": {
    "deletable": false,
    "editable": false
   },
   "outputs": [
    {
     "ename": "NameError",
     "evalue": "name 'X' is not defined",
     "output_type": "error",
     "traceback": [
      "\u001b[0;31m---------------------------------------------------------------------------\u001b[0m",
      "\u001b[0;31mNameError\u001b[0m                                 Traceback (most recent call last)",
      "Cell \u001b[0;32mIn[6], line 5\u001b[0m\n\u001b[1;32m      2\u001b[0m warnings\u001b[38;5;241m.\u001b[39msimplefilter(action\u001b[38;5;241m=\u001b[39m\u001b[38;5;124m'\u001b[39m\u001b[38;5;124mignore\u001b[39m\u001b[38;5;124m'\u001b[39m, category\u001b[38;5;241m=\u001b[39m\u001b[38;5;167;01mFutureWarning\u001b[39;00m)\n\u001b[1;32m      3\u001b[0m \u001b[38;5;66;03m# You do not need to modify anything in this cell\u001b[39;00m\n\u001b[0;32m----> 5\u001b[0m m, n \u001b[38;5;241m=\u001b[39m X\u001b[38;5;241m.\u001b[39mshape\n\u001b[1;32m      7\u001b[0m fig, axes \u001b[38;5;241m=\u001b[39m plt\u001b[38;5;241m.\u001b[39msubplots(\u001b[38;5;241m8\u001b[39m,\u001b[38;5;241m8\u001b[39m, figsize\u001b[38;5;241m=\u001b[39m(\u001b[38;5;241m5\u001b[39m,\u001b[38;5;241m5\u001b[39m))\n\u001b[1;32m      8\u001b[0m fig\u001b[38;5;241m.\u001b[39mtight_layout(pad\u001b[38;5;241m=\u001b[39m\u001b[38;5;241m0.13\u001b[39m,rect\u001b[38;5;241m=\u001b[39m[\u001b[38;5;241m0\u001b[39m, \u001b[38;5;241m0.03\u001b[39m, \u001b[38;5;241m1\u001b[39m, \u001b[38;5;241m0.91\u001b[39m]) \u001b[38;5;66;03m#[left, bottom, right, top]\u001b[39;00m\n",
      "\u001b[0;31mNameError\u001b[0m: name 'X' is not defined"
     ]
    }
   ],
   "source": [
    "import warnings\n",
    "warnings.simplefilter(action='ignore', category=FutureWarning)\n",
    "# You do not need to modify anything in this cell\n",
    "\n",
    "m, n = X.shape\n",
    "\n",
    "fig, axes = plt.subplots(8,8, figsize=(5,5))\n",
    "fig.tight_layout(pad=0.13,rect=[0, 0.03, 1, 0.91]) #[left, bottom, right, top]\n",
    "\n",
    "#fig.tight_layout(pad=0.5)\n",
    "widgvis(fig)\n",
    "for i,ax in enumerate(axes.flat):\n",
    "    # Select random indices\n",
    "    random_index = np.random.randint(m)\n",
    "    \n",
    "    # Select rows corresponding to the random indices and\n",
    "    # reshape the image\n",
    "    X_random_reshaped = X[random_index].reshape((20,20)).T\n",
    "    \n",
    "    # Display the image\n",
    "    ax.imshow(X_random_reshaped, cmap='gray')\n",
    "    \n",
    "    # Display the label above the image\n",
    "    ax.set_title(y[random_index,0])\n",
    "    ax.set_axis_off()\n",
    "    fig.suptitle(\"Label, image\", fontsize=14)"
   ]
  },
  {
   "cell_type": "markdown",
   "metadata": {},
   "source": [
    "<a name=\"4.3\"></a>\n",
    "### 4.3 Model representation\n",
    "\n",
    "The neural network you will use in this assignment is shown in the figure below. \n",
    "- This has two dense layers with ReLU activations followed by an output layer with a linear activation. \n",
    "    - Recall that our inputs are pixel values of digit images.\n",
    "    - Since the images are of size $20\\times20$, this gives us $400$ inputs  \n",
    "    \n",
    "<img src=\"images/C2_W2_Assigment_NN.png\" width=\"600\" height=\"450\">"
   ]
  },
  {
   "cell_type": "markdown",
   "metadata": {},
   "source": [
    "- The parameters have dimensions that are sized for a neural network with $25$ units in layer 1, $15$ units in layer 2 and $10$ output units in layer 3, one for each digit.\n",
    "\n",
    "    - Recall that the dimensions of these parameters is determined as follows:\n",
    "        - If network has $s_{in}$ units in a layer and $s_{out}$ units in the next layer, then \n",
    "            - $W$ will be of dimension $s_{in} \\times s_{out}$.\n",
    "            - $b$ will be a vector with $s_{out}$ elements\n",
    "  \n",
    "    - Therefore, the shapes of `W`, and `b`,  are \n",
    "        - layer1: The shape of `W1` is (400, 25) and the shape of `b1` is (25,)\n",
    "        - layer2: The shape of `W2` is (25, 15) and the shape of `b2` is: (15,)\n",
    "        - layer3: The shape of `W3` is (15, 10) and the shape of `b3` is: (10,)\n",
    ">**Note:** The bias vector `b` could be represented as a 1-D (n,) or 2-D (n,1) array. Tensorflow utilizes a 1-D representation and this lab will maintain that convention: \n",
    "               "
   ]
  },
  {
   "cell_type": "markdown",
   "metadata": {},
   "source": [
    "<a name=\"4.4\"></a>\n",
    "### 4.4 Tensorflow Model Implementation\n"
   ]
  },
  {
   "cell_type": "markdown",
   "metadata": {},
   "source": [
    "Tensorflow models are built layer by layer. A layer's input dimensions ($s_{in}$ above) are calculated for you. You specify a layer's *output dimensions* and this determines the next layer's input dimension. The input dimension of the first layer is derived from the size of the input data specified in the `model.fit` statement below. \n",
    ">**Note:** It is also possible to add an input layer that specifies the input dimension of the first layer. For example:  \n",
    "`tf.keras.Input(shape=(400,)),    #specify input shape`  \n",
    "We will include that here to illuminate some model sizing."
   ]
  },
  {
   "cell_type": "markdown",
   "metadata": {},
   "source": [
    "<a name=\"4.5\"></a>\n",
    "### 4.5 Softmax placement\n",
    "As described in the lecture and the optional softmax lab, numerical stability is improved if the softmax is grouped with the loss function rather than the output layer during training. This has implications when *building* the model and *using* the model.  \n",
    "Building:  \n",
    "* The final Dense layer should use a 'linear' activation. This is effectively no activation. \n",
    "* The `model.compile` statement will indicate this by including `from_logits=True`.\n",
    "`loss=tf.keras.losses.SparseCategoricalCrossentropy(from_logits=True) `  \n",
    "* This does not impact the form of the target. In the case of SparseCategorialCrossentropy, the target is the expected digit, 0-9.\n",
    "\n",
    "Using the model:\n",
    "* The outputs are not probabilities. If output probabilities are desired, apply a softmax function."
   ]
  },
  {
   "cell_type": "markdown",
   "metadata": {},
   "source": [
    "<a name=\"ex02\"></a>\n",
    "### Exercise 2\n",
    "\n",
    "Below, using Keras [Sequential model](https://keras.io/guides/sequential_model/) and [Dense Layer](https://keras.io/api/layers/core_layers/dense/) with a ReLU activation to construct the three layer network described above."
   ]
  },
  {
   "cell_type": "code",
   "execution_count": 10,
   "metadata": {
    "deletable": false
   },
   "outputs": [],
   "source": [
    "# UNQ_C2\n",
    "# GRADED CELL: Sequential model\n",
    "tf.random.set_seed(1234) # for consistent results\n",
    "model = Sequential(\n",
    "    [               \n",
    "        ### START CODE HERE ### \n",
    "        tf.keras.Input(shape=(400,)),     # @REPLACE \n",
    "        Dense(25, activation='relu', name = \"L1\"), # @REPLACE \n",
    "        Dense(15, activation='relu',  name = \"L2\"), # @REPLACE  \n",
    "        Dense(10, activation='linear', name = \"L3\"),  # @REPLACE \n",
    "        \n",
    "        \n",
    "        \n",
    "        ### END CODE HERE ### \n",
    "    ], name = \"my_model\" \n",
    ")"
   ]
  },
  {
   "cell_type": "code",
   "execution_count": 11,
   "metadata": {
    "deletable": false,
    "editable": false
   },
   "outputs": [
    {
     "name": "stdout",
     "output_type": "stream",
     "text": [
      "Model: \"my_model\"\n",
      "_________________________________________________________________\n",
      " Layer (type)                Output Shape              Param #   \n",
      "=================================================================\n",
      " L1 (Dense)                  (None, 25)                10025     \n",
      "                                                                 \n",
      " L2 (Dense)                  (None, 15)                390       \n",
      "                                                                 \n",
      " L3 (Dense)                  (None, 10)                160       \n",
      "                                                                 \n",
      "=================================================================\n",
      "Total params: 10,575\n",
      "Trainable params: 10,575\n",
      "Non-trainable params: 0\n",
      "_________________________________________________________________\n"
     ]
    }
   ],
   "source": [
    "model.summary()"
   ]
  },
  {
   "cell_type": "markdown",
   "metadata": {},
   "source": [
    "<details>\n",
    "  <summary><font size=\"3\" color=\"darkgreen\"><b>Expected Output (Click to expand)</b></font></summary>\n",
    "The `model.summary()` function displays a useful summary of the model. Note, the names of the layers may vary as they are auto-generated unless the name is specified.    \n",
    "    \n",
    "```\n",
    "Model: \"my_model\"\n",
    "_________________________________________________________________\n",
    "Layer (type)                 Output Shape              Param #   \n",
    "=================================================================\n",
    "L1 (Dense)                   (None, 25)                10025     \n",
    "_________________________________________________________________\n",
    "L2 (Dense)                   (None, 15)                390       \n",
    "_________________________________________________________________\n",
    "L3 (Dense)                   (None, 10)                160       \n",
    "=================================================================\n",
    "Total params: 10,575\n",
    "Trainable params: 10,575\n",
    "Non-trainable params: 0\n",
    "_________________________________________________________________\n",
    "```"
   ]
  },
  {
   "cell_type": "markdown",
   "metadata": {},
   "source": [
    "<details>\n",
    "  <summary><font size=\"3\" color=\"darkgreen\"><b>Click for hints</b></font></summary>\n",
    "    \n",
    "```python\n",
    "tf.random.set_seed(1234)\n",
    "model = Sequential(\n",
    "    [               \n",
    "        ### START CODE HERE ### \n",
    "        tf.keras.Input(shape=(400,)),     # @REPLACE \n",
    "        Dense(25, activation='relu', name = \"L1\"), # @REPLACE \n",
    "        Dense(15, activation='relu',  name = \"L2\"), # @REPLACE  \n",
    "        Dense(10, activation='linear', name = \"L3\"),  # @REPLACE \n",
    "        ### END CODE HERE ### \n",
    "    ], name = \"my_model\" \n",
    ")\n",
    "``` "
   ]
  },
  {
   "cell_type": "code",
   "execution_count": 13,
   "metadata": {
    "deletable": false,
    "editable": false
   },
   "outputs": [
    {
     "name": "stdout",
     "output_type": "stream",
     "text": [
      "\u001b[92mAll tests passed!\n"
     ]
    }
   ],
   "source": [
    "# BEGIN UNIT TEST     \n",
    "test_model(model, 10, 400)\n",
    "# END UNIT TEST     "
   ]
  },
  {
   "cell_type": "markdown",
   "metadata": {},
   "source": [
    "The parameter counts shown in the summary correspond to the number of elements in the weight and bias arrays as shown below."
   ]
  },
  {
   "cell_type": "markdown",
   "metadata": {},
   "source": [
    "Let's further examine the weights to verify that tensorflow produced the same dimensions as we calculated above."
   ]
  },
  {
   "cell_type": "code",
   "execution_count": 14,
   "metadata": {
    "deletable": false,
    "editable": false
   },
   "outputs": [],
   "source": [
    "[layer1, layer2, layer3] = model.layers"
   ]
  },
  {
   "cell_type": "code",
   "execution_count": 15,
   "metadata": {
    "deletable": false,
    "editable": false
   },
   "outputs": [
    {
     "name": "stdout",
     "output_type": "stream",
     "text": [
      "W1 shape = (400, 25), b1 shape = (25,)\n",
      "W2 shape = (25, 15), b2 shape = (15,)\n",
      "W3 shape = (15, 10), b3 shape = (10,)\n"
     ]
    }
   ],
   "source": [
    "#### Examine Weights shapes\n",
    "W1,b1 = layer1.get_weights()\n",
    "W2,b2 = layer2.get_weights()\n",
    "W3,b3 = layer3.get_weights()\n",
    "print(f\"W1 shape = {W1.shape}, b1 shape = {b1.shape}\")\n",
    "print(f\"W2 shape = {W2.shape}, b2 shape = {b2.shape}\")\n",
    "print(f\"W3 shape = {W3.shape}, b3 shape = {b3.shape}\")"
   ]
  },
  {
   "cell_type": "markdown",
   "metadata": {},
   "source": [
    "**Expected Output**\n",
    "```\n",
    "W1 shape = (400, 25), b1 shape = (25,)  \n",
    "W2 shape = (25, 15), b2 shape = (15,)  \n",
    "W3 shape = (15, 10), b3 shape = (10,)\n",
    "```"
   ]
  },
  {
   "cell_type": "markdown",
   "metadata": {},
   "source": [
    "The following code:\n",
    "* defines a loss function, `SparseCategoricalCrossentropy` and indicates the softmax should be included with the  loss calculation by adding `from_logits=True`)\n",
    "* defines an optimizer. A popular choice is Adaptive Moment (Adam) which was described in lecture."
   ]
  },
  {
   "cell_type": "code",
   "execution_count": 16,
   "metadata": {
    "deletable": false,
    "editable": false,
    "scrolled": true
   },
   "outputs": [
    {
     "name": "stderr",
     "output_type": "stream",
     "text": [
      "WARNING:absl:At this time, the v2.11+ optimizer `tf.keras.optimizers.Adam` runs slowly on M1/M2 Macs, please use the legacy Keras optimizer instead, located at `tf.keras.optimizers.legacy.Adam`.\n",
      "WARNING:absl:There is a known slowdown when using v2.11+ Keras optimizers on M1/M2 Macs. Falling back to the legacy Keras optimizer, i.e., `tf.keras.optimizers.legacy.Adam`.\n"
     ]
    },
    {
     "ename": "NameError",
     "evalue": "name 'X' is not defined",
     "output_type": "error",
     "traceback": [
      "\u001b[0;31m---------------------------------------------------------------------------\u001b[0m",
      "\u001b[0;31mNameError\u001b[0m                                 Traceback (most recent call last)",
      "Cell \u001b[0;32mIn[16], line 7\u001b[0m\n\u001b[1;32m      1\u001b[0m model\u001b[38;5;241m.\u001b[39mcompile(\n\u001b[1;32m      2\u001b[0m     loss\u001b[38;5;241m=\u001b[39mtf\u001b[38;5;241m.\u001b[39mkeras\u001b[38;5;241m.\u001b[39mlosses\u001b[38;5;241m.\u001b[39mSparseCategoricalCrossentropy(from_logits\u001b[38;5;241m=\u001b[39m\u001b[38;5;28;01mTrue\u001b[39;00m),\n\u001b[1;32m      3\u001b[0m     optimizer\u001b[38;5;241m=\u001b[39mtf\u001b[38;5;241m.\u001b[39mkeras\u001b[38;5;241m.\u001b[39moptimizers\u001b[38;5;241m.\u001b[39mAdam(learning_rate\u001b[38;5;241m=\u001b[39m\u001b[38;5;241m0.001\u001b[39m),\n\u001b[1;32m      4\u001b[0m )\n\u001b[1;32m      6\u001b[0m history \u001b[38;5;241m=\u001b[39m model\u001b[38;5;241m.\u001b[39mfit(\n\u001b[0;32m----> 7\u001b[0m     X,y,\n\u001b[1;32m      8\u001b[0m     epochs\u001b[38;5;241m=\u001b[39m\u001b[38;5;241m40\u001b[39m\n\u001b[1;32m      9\u001b[0m )\n",
      "\u001b[0;31mNameError\u001b[0m: name 'X' is not defined"
     ]
    }
   ],
   "source": [
    "model.compile(\n",
    "    loss=tf.keras.losses.SparseCategoricalCrossentropy(from_logits=True),\n",
    "    optimizer=tf.keras.optimizers.Adam(learning_rate=0.001),\n",
    ")\n",
    "\n",
    "history = model.fit(\n",
    "    X,y,\n",
    "    epochs=40\n",
    ")"
   ]
  },
  {
   "cell_type": "markdown",
   "metadata": {},
   "source": [
    "#### Epochs and batches\n",
    "In the `fit` statement above, the number of `epochs` was set to 40. This specifies that the entire data set should be applied during training 40 times.  During training, you see output describing the progress of training that looks like this:\n",
    "```\n",
    "Epoch 1/40\n",
    "157/157 [==============================] - 0s 1ms/step - loss: 2.2770\n",
    "```\n",
    "The first line, `Epoch 1/40`, describes which epoch the model is currently running. For efficiency, the training data set is broken into 'batches'. The default size of a batch in Tensorflow is 32. There are 5000 examples in our data set or roughly 157 batches. The notation on the 2nd line `157/157 [====` is describing which batch has been executed."
   ]
  },
  {
   "cell_type": "markdown",
   "metadata": {},
   "source": [
    "#### Loss  (cost)\n",
    "In course 1, we learned to track the progress of gradient descent by monitoring the cost. Ideally, the cost will decrease as the number of iterations of the algorithm increases. Tensorflow refers to the cost as `loss`. Above, you saw the loss displayed each epoch as `model.fit` was executing. The [.fit](https://www.tensorflow.org/api_docs/python/tf/keras/Model) method returns a variety of metrics including the loss. This is captured in the `history` variable above. This can be used to examine the loss in a plot as shown below."
   ]
  },
  {
   "cell_type": "code",
   "execution_count": null,
   "metadata": {
    "deletable": false,
    "editable": false
   },
   "outputs": [],
   "source": [
    "plot_loss_tf(history)"
   ]
  },
  {
   "cell_type": "markdown",
   "metadata": {},
   "source": [
    "#### Prediction \n",
    "To make a prediction, use Keras `predict`. Below, X[1015] contains an image of a two."
   ]
  },
  {
   "cell_type": "code",
   "execution_count": 13,
   "metadata": {
    "deletable": false,
    "editable": false
   },
   "outputs": [
    {
     "ename": "NameError",
     "evalue": "name 'X' is not defined",
     "output_type": "error",
     "traceback": [
      "\u001b[0;31m---------------------------------------------------------------------------\u001b[0m",
      "\u001b[0;31mNameError\u001b[0m                                 Traceback (most recent call last)",
      "Cell \u001b[0;32mIn[13], line 1\u001b[0m\n\u001b[0;32m----> 1\u001b[0m image_of_two \u001b[38;5;241m=\u001b[39m X[\u001b[38;5;241m1015\u001b[39m]\n\u001b[1;32m      2\u001b[0m display_digit(image_of_two)\n\u001b[1;32m      4\u001b[0m prediction \u001b[38;5;241m=\u001b[39m model\u001b[38;5;241m.\u001b[39mpredict(image_of_two\u001b[38;5;241m.\u001b[39mreshape(\u001b[38;5;241m1\u001b[39m,\u001b[38;5;241m400\u001b[39m))  \u001b[38;5;66;03m# prediction\u001b[39;00m\n",
      "\u001b[0;31mNameError\u001b[0m: name 'X' is not defined"
     ]
    }
   ],
   "source": [
    "image_of_two = X[1015]\n",
    "display_digit(image_of_two)\n",
    "\n",
    "prediction = model.predict(image_of_two.reshape(1,400))  # prediction\n",
    "\n",
    "print(f\" predicting a Two: \\n{prediction}\")\n",
    "print(f\" Largest Prediction index: {np.argmax(prediction)}\")"
   ]
  },
  {
   "cell_type": "markdown",
   "metadata": {},
   "source": [
    "The largest output is prediction[2], indicating the predicted digit is a '2'. If the problem only requires a selection, that is sufficient. Use NumPy [argmax](https://numpy.org/doc/stable/reference/generated/numpy.argmax.html) to select it. If the problem requires a probability, a softmax is required:"
   ]
  },
  {
   "cell_type": "code",
   "execution_count": 14,
   "metadata": {
    "deletable": false,
    "editable": false
   },
   "outputs": [
    {
     "ename": "NameError",
     "evalue": "name 'prediction' is not defined",
     "output_type": "error",
     "traceback": [
      "\u001b[0;31m---------------------------------------------------------------------------\u001b[0m",
      "\u001b[0;31mNameError\u001b[0m                                 Traceback (most recent call last)",
      "Cell \u001b[0;32mIn[14], line 1\u001b[0m\n\u001b[0;32m----> 1\u001b[0m prediction_p \u001b[38;5;241m=\u001b[39m tf\u001b[38;5;241m.\u001b[39mnn\u001b[38;5;241m.\u001b[39msoftmax(prediction)\n\u001b[1;32m      3\u001b[0m \u001b[38;5;28mprint\u001b[39m(\u001b[38;5;124mf\u001b[39m\u001b[38;5;124m\"\u001b[39m\u001b[38;5;124m predicting a Two. Probability vector: \u001b[39m\u001b[38;5;130;01m\\n\u001b[39;00m\u001b[38;5;132;01m{\u001b[39;00mprediction_p\u001b[38;5;132;01m}\u001b[39;00m\u001b[38;5;124m\"\u001b[39m)\n\u001b[1;32m      4\u001b[0m \u001b[38;5;28mprint\u001b[39m(\u001b[38;5;124mf\u001b[39m\u001b[38;5;124m\"\u001b[39m\u001b[38;5;124mTotal of predictions: \u001b[39m\u001b[38;5;132;01m{\u001b[39;00mnp\u001b[38;5;241m.\u001b[39msum(prediction_p)\u001b[38;5;132;01m:\u001b[39;00m\u001b[38;5;124m0.3f\u001b[39m\u001b[38;5;132;01m}\u001b[39;00m\u001b[38;5;124m\"\u001b[39m)\n",
      "\u001b[0;31mNameError\u001b[0m: name 'prediction' is not defined"
     ]
    }
   ],
   "source": [
    "prediction_p = tf.nn.softmax(prediction)\n",
    "\n",
    "print(f\" predicting a Two. Probability vector: \\n{prediction_p}\")\n",
    "print(f\"Total of predictions: {np.sum(prediction_p):0.3f}\")"
   ]
  },
  {
   "cell_type": "markdown",
   "metadata": {},
   "source": [
    "To return an integer representing the predicted target, you want the index of the largest probability. This is accomplished with the Numpy [argmax](https://numpy.org/doc/stable/reference/generated/numpy.argmax.html) function."
   ]
  },
  {
   "cell_type": "code",
   "execution_count": 15,
   "metadata": {
    "deletable": false,
    "editable": false
   },
   "outputs": [
    {
     "ename": "NameError",
     "evalue": "name 'prediction_p' is not defined",
     "output_type": "error",
     "traceback": [
      "\u001b[0;31m---------------------------------------------------------------------------\u001b[0m",
      "\u001b[0;31mNameError\u001b[0m                                 Traceback (most recent call last)",
      "Cell \u001b[0;32mIn[15], line 1\u001b[0m\n\u001b[0;32m----> 1\u001b[0m yhat \u001b[38;5;241m=\u001b[39m np\u001b[38;5;241m.\u001b[39margmax(prediction_p)\n\u001b[1;32m      3\u001b[0m \u001b[38;5;28mprint\u001b[39m(\u001b[38;5;124mf\u001b[39m\u001b[38;5;124m\"\u001b[39m\u001b[38;5;124mnp.argmax(prediction_p): \u001b[39m\u001b[38;5;132;01m{\u001b[39;00myhat\u001b[38;5;132;01m}\u001b[39;00m\u001b[38;5;124m\"\u001b[39m)\n",
      "\u001b[0;31mNameError\u001b[0m: name 'prediction_p' is not defined"
     ]
    }
   ],
   "source": [
    "yhat = np.argmax(prediction_p)\n",
    "\n",
    "print(f\"np.argmax(prediction_p): {yhat}\")"
   ]
  },
  {
   "cell_type": "markdown",
   "metadata": {},
   "source": [
    "Let's compare the predictions vs the labels for a random sample of 64 digits. This takes a moment to run."
   ]
  },
  {
   "cell_type": "code",
   "execution_count": 16,
   "metadata": {
    "deletable": false,
    "editable": false
   },
   "outputs": [
    {
     "ename": "NameError",
     "evalue": "name 'X' is not defined",
     "output_type": "error",
     "traceback": [
      "\u001b[0;31m---------------------------------------------------------------------------\u001b[0m",
      "\u001b[0;31mNameError\u001b[0m                                 Traceback (most recent call last)",
      "Cell \u001b[0;32mIn[16], line 5\u001b[0m\n\u001b[1;32m      2\u001b[0m warnings\u001b[38;5;241m.\u001b[39msimplefilter(action\u001b[38;5;241m=\u001b[39m\u001b[38;5;124m'\u001b[39m\u001b[38;5;124mignore\u001b[39m\u001b[38;5;124m'\u001b[39m, category\u001b[38;5;241m=\u001b[39m\u001b[38;5;167;01mFutureWarning\u001b[39;00m)\n\u001b[1;32m      3\u001b[0m \u001b[38;5;66;03m# You do not need to modify anything in this cell\u001b[39;00m\n\u001b[0;32m----> 5\u001b[0m m, n \u001b[38;5;241m=\u001b[39m X\u001b[38;5;241m.\u001b[39mshape\n\u001b[1;32m      7\u001b[0m fig, axes \u001b[38;5;241m=\u001b[39m plt\u001b[38;5;241m.\u001b[39msubplots(\u001b[38;5;241m8\u001b[39m,\u001b[38;5;241m8\u001b[39m, figsize\u001b[38;5;241m=\u001b[39m(\u001b[38;5;241m5\u001b[39m,\u001b[38;5;241m5\u001b[39m))\n\u001b[1;32m      8\u001b[0m fig\u001b[38;5;241m.\u001b[39mtight_layout(pad\u001b[38;5;241m=\u001b[39m\u001b[38;5;241m0.13\u001b[39m,rect\u001b[38;5;241m=\u001b[39m[\u001b[38;5;241m0\u001b[39m, \u001b[38;5;241m0.03\u001b[39m, \u001b[38;5;241m1\u001b[39m, \u001b[38;5;241m0.91\u001b[39m]) \u001b[38;5;66;03m#[left, bottom, right, top]\u001b[39;00m\n",
      "\u001b[0;31mNameError\u001b[0m: name 'X' is not defined"
     ]
    }
   ],
   "source": [
    "import warnings\n",
    "warnings.simplefilter(action='ignore', category=FutureWarning)\n",
    "# You do not need to modify anything in this cell\n",
    "\n",
    "m, n = X.shape\n",
    "\n",
    "fig, axes = plt.subplots(8,8, figsize=(5,5))\n",
    "fig.tight_layout(pad=0.13,rect=[0, 0.03, 1, 0.91]) #[left, bottom, right, top]\n",
    "widgvis(fig)\n",
    "for i,ax in enumerate(axes.flat):\n",
    "    # Select random indices\n",
    "    random_index = np.random.randint(m)\n",
    "    \n",
    "    # Select rows corresponding to the random indices and\n",
    "    # reshape the image\n",
    "    X_random_reshaped = X[random_index].reshape((20,20)).T\n",
    "    \n",
    "    # Display the image\n",
    "    ax.imshow(X_random_reshaped, cmap='gray')\n",
    "    \n",
    "    # Predict using the Neural Network\n",
    "    prediction = model.predict(X[random_index].reshape(1,400))\n",
    "    prediction_p = tf.nn.softmax(prediction)\n",
    "    yhat = np.argmax(prediction_p)\n",
    "    \n",
    "    # Display the label above the image\n",
    "    ax.set_title(f\"{y[random_index,0]},{yhat}\",fontsize=10)\n",
    "    ax.set_axis_off()\n",
    "fig.suptitle(\"Label, yhat\", fontsize=14)\n",
    "plt.show()"
   ]
  },
  {
   "cell_type": "markdown",
   "metadata": {},
   "source": [
    "Let's look at some of the errors. \n",
    ">Note: increasing the number of training epochs can eliminate the errors on this data set."
   ]
  },
  {
   "cell_type": "code",
   "execution_count": 17,
   "metadata": {
    "deletable": false,
    "editable": false
   },
   "outputs": [
    {
     "ename": "NameError",
     "evalue": "name 'X' is not defined",
     "output_type": "error",
     "traceback": [
      "\u001b[0;31m---------------------------------------------------------------------------\u001b[0m",
      "\u001b[0;31mNameError\u001b[0m                                 Traceback (most recent call last)",
      "Cell \u001b[0;32mIn[17], line 1\u001b[0m\n\u001b[0;32m----> 1\u001b[0m \u001b[38;5;28mprint\u001b[39m( \u001b[38;5;124mf\u001b[39m\u001b[38;5;124m\"\u001b[39m\u001b[38;5;132;01m{\u001b[39;00mdisplay_errors(model,X,y)\u001b[38;5;132;01m}\u001b[39;00m\u001b[38;5;124m errors out of \u001b[39m\u001b[38;5;132;01m{\u001b[39;00m\u001b[38;5;28mlen\u001b[39m(X)\u001b[38;5;132;01m}\u001b[39;00m\u001b[38;5;124m images\u001b[39m\u001b[38;5;124m\"\u001b[39m)\n",
      "\u001b[0;31mNameError\u001b[0m: name 'X' is not defined"
     ]
    }
   ],
   "source": [
    "print( f\"{display_errors(model,X,y)} errors out of {len(X)} images\")"
   ]
  },
  {
   "cell_type": "markdown",
   "metadata": {},
   "source": [
    "### Congratulations!\n",
    "You have successfully built and utilized a neural network to do multiclass classification."
   ]
  },
  {
   "cell_type": "markdown",
   "metadata": {},
   "source": [
    "<details>\n",
    "  <summary><font size=\"2\" color=\"darkgreen\"><b>Please click here if you want to experiment with any of the non-graded code.</b></font></summary>\n",
    "    <p><i><b>Important Note: Please only do this when you've already passed the assignment to avoid problems with the autograder.</b></i>\n",
    "    <ol>\n",
    "        <li> On the notebook’s menu, click “View” > “Cell Toolbar” > “Edit Metadata”</li>\n",
    "        <li> Hit the “Edit Metadata” button next to the code cell which you want to lock/unlock</li>\n",
    "        <li> Set the attribute value for “editable” to:\n",
    "            <ul>\n",
    "                <li> “true” if you want to unlock it </li>\n",
    "                <li> “false” if you want to lock it </li>\n",
    "            </ul>\n",
    "        </li>\n",
    "        <li> On the notebook’s menu, click “View” > “Cell Toolbar” > “None” </li>\n",
    "    </ol>\n",
    "    <p> Here's a short demo of how to do the steps above: \n",
    "        <br>\n",
    "        <img src=\"https://lh3.google.com/u/0/d/14Xy_Mb17CZVgzVAgq7NCjMVBvSae3xO1\" align=\"center\" alt=\"unlock_cells.gif\">\n",
    "</details>"
   ]
  },
  {
   "cell_type": "code",
   "execution_count": null,
   "metadata": {},
   "outputs": [],
   "source": []
  }
 ],
 "metadata": {
  "dl_toc_settings": {
   "rndtag": "89367"
  },
  "kernelspec": {
   "display_name": "Python 3 (ipykernel)",
   "language": "python",
   "name": "python3"
  },
  "language_info": {
   "codemirror_mode": {
    "name": "ipython",
    "version": 3
   },
   "file_extension": ".py",
   "mimetype": "text/x-python",
   "name": "python",
   "nbconvert_exporter": "python",
   "pygments_lexer": "ipython3",
   "version": "3.11.5"
  }
 },
 "nbformat": 4,
 "nbformat_minor": 4
}
